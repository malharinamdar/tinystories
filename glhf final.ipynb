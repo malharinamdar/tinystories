{
 "cells": [
  {
   "cell_type": "code",
   "execution_count": 16,
   "metadata": {},
   "outputs": [],
   "source": [
    "import openai\n",
    "import pandas as pd\n",
    "import numpy as np\n",
    "import json\n",
    "openai.api_key = \"glhf_c2fb00713f21b84faf72615092c72a0c\"\n",
    "openai.api_base = \"https://glhf.chat/api/openai/v1\"\n",
    "\n"
   ]
  },
  {
   "cell_type": "code",
   "execution_count": 17,
   "metadata": {},
   "outputs": [],
   "source": [
    "verbs = pd.read_csv('/Users/malhar.inamdar/Desktop/test/hindi-verbs.txt', header=None)\n",
    "adj = pd.read_csv('/Users/malhar.inamdar/Desktop/test/adjectives_hindi.txt', header=None)\n",
    "nouns = pd.read_csv('/Users/malhar.inamdar/Desktop/test/nouns_hindi.txt', header=None)\n",
    "end = np.array([\"happy\", \"sad\", \"mysterious\"])"
   ]
  },
  {
   "cell_type": "code",
   "execution_count": 18,
   "metadata": {},
   "outputs": [],
   "source": [
    "def generatePrompt():\n",
    "    verb = verbs.sample(n=1).iloc[0, 0]\n",
    "    noun = nouns.sample(n=1).iloc[0, 0]\n",
    "    adjective = adj.sample(n=1).iloc[0, 0]\n",
    "\n",
    "    ending = np.random.choice(end)\n",
    "    # Randomly select one of verb, noun, or adjective to use in the prompt\n",
    "    word_choice = np.random.choice([\"verb\", \"noun\", \"adjective\"])\n",
    "    word = verb if word_choice == \"verb\" else noun if word_choice == \"noun\" else adjective\n",
    "\n",
    "    basePromptHindi = f'''Write a simple Hindi children's story for a 5-year-old in 5-6 lines. The story should be inspired by Panchtantra tales and use easy, understandable language. Make it engaging with a clear beginning, middle, and end, and include only one brief dialogue between the characters. The story should have a gentle, natural resolution that reflects an emotion, such as happiness, friendship, or kindness, without explicitly using these words. Use the {word_choice} \"{word}\" naturally within the story.\n",
    "    The story should naturally lead to a {ending} ending, conveyed through the characters’ reactions, atmosphere, or conclusion without directly using the word {ending}.\n",
    "    Just give the marathi story'''\n",
    "    newPrompt = f'''Write a simple Hindi children's story for a 5-year-old in 5-6 lines. The story should be inspired by traditional folk tales like Panchtantra, but can feature a mix of characters—such as children, family members, nature elements, or gentle imaginary beings—aside from animals. \n",
    "    Use easy and understandable language. Create an engaging flow with a clear beginning, middle, and end, and include one brief, friendly dialogue between characters. The story should end with a positive resolution, reflecting an emotion like joy, kindness, or curiosity through actions and reactions rather than direct words. \n",
    "    Naturally incorporate the {word_choice} \"{word}\" within the story. Ensure the story subtly leads to a {ending} ending through atmosphere and actions, without directly using the word {ending}. Just provide the Hindi story.'''\n",
    "    return {'instruction':basePromptHindi, \"word\":word,\"ending\":ending}"
   ]
  },
  {
   "cell_type": "code",
   "execution_count": 19,
   "metadata": {},
   "outputs": [],
   "source": [
    "data = {\n",
    "    \"output\": [],\n",
    "    \"input\": [],\n",
    "    \n",
    "}"
   ]
  },
  {
   "cell_type": "code",
   "execution_count": 20,
   "metadata": {},
   "outputs": [],
   "source": [
    "def store_dataset(n):\n",
    "  data = {\n",
    "    \"output\": [],\n",
    "    \"input\": [],\n",
    "    \"instruction\": []\n",
    "  }\n",
    "  for _ in range(n):\n",
    "    prompt = generatePrompt()\n",
    "    basePromptHindi = prompt['instruction']\n",
    "    \n",
    "    completion = openai.ChatCompletion.create(\n",
    "      model=\"hf:google/gemma-2-27b-it\",\n",
    "      messages=[\n",
    "        {\"role\": \"user\", \"content\": f\"{basePromptHindi}\"}\n",
    "      ],\n",
    "      temperature=0.3,\n",
    "      max_tokens=500,\n",
    "      top_p = 0.9,\n",
    "      frequency_penalty=0.5,\n",
    "      presence_penalty=1\n",
    "    )\n",
    "    response_message = completion.choices[0].message.content\n",
    "    input_words = [prompt['word'],prompt['ending']]\n",
    "    data[\"output\"].append(response_message)\n",
    "    data[\"input\"].append(input_words)\n",
    "    data[\"instruction\"].append(basePromptHindi)\n",
    "    with open('new20.json', 'w', encoding='utf-8') as json_file:\n",
    "      json.dump({\"train\": data}, json_file, ensure_ascii=False, indent=4)\n",
    "      "
   ]
  },
  {
   "cell_type": "code",
   "execution_count": 21,
   "metadata": {},
   "outputs": [],
   "source": [
    "store_dataset(20)\n"
   ]
  },
  {
   "cell_type": "code",
   "execution_count": null,
   "metadata": {},
   "outputs": [],
   "source": []
  }
 ],
 "metadata": {
  "kernelspec": {
   "display_name": "Python 3",
   "language": "python",
   "name": "python3"
  },
  "language_info": {
   "codemirror_mode": {
    "name": "ipython",
    "version": 3
   },
   "file_extension": ".py",
   "mimetype": "text/x-python",
   "name": "python",
   "nbconvert_exporter": "python",
   "pygments_lexer": "ipython3",
   "version": "3.12.2"
  }
 },
 "nbformat": 4,
 "nbformat_minor": 2
}
