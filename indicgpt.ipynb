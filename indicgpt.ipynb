{
 "cells": [
  {
   "cell_type": "code",
   "execution_count": 5,
   "metadata": {},
   "outputs": [],
   "source": [
    "import json\n",
    "import numpy as np\n",
    "import pandas as pd\n",
    "from transformers import AutoModelForCausalLM, AutoTokenizer, pipeline\n"
   ]
  },
  {
   "cell_type": "code",
   "execution_count": 7,
   "metadata": {},
   "outputs": [],
   "source": [
    "# Load model directly\n",
    "from transformers import AutoTokenizer, AutoModelForCausalLM\n",
    "\n",
    "tokenizer = AutoTokenizer.from_pretrained(\"aashay96/indic-gpt\")\n",
    "model = AutoModelForCausalLM.from_pretrained(\"aashay96/indic-gpt\")\n"
   ]
  },
  {
   "cell_type": "code",
   "execution_count": 8,
   "metadata": {},
   "outputs": [],
   "source": [
    "verbs = pd.DataFrame({\"word\": [\"खेलना\", \"हँसना\", \"सुनना\"]})\n",
    "nouns = pd.DataFrame({\"word\": [\"बच्चा\", \"पेड़\", \"पानी\"]})\n",
    "adjectives = pd.DataFrame({\"word\": [\"खुश\", \"सुंदर\", \"बहादुर\"]})\n",
    "endings = [\"सुखद\", \"शांत\", \"मित्रता\"]\n"
   ]
  },
  {
   "cell_type": "code",
   "execution_count": 9,
   "metadata": {},
   "outputs": [
    {
     "name": "stderr",
     "output_type": "stream",
     "text": [
      "Hardware accelerator e.g. GPU is available in the environment, but no `device` argument is passed to the `Pipeline` object. Model will be on CPU.\n"
     ]
    }
   ],
   "source": [
    "generator = pipeline(\"text-generation\", model=model, tokenizer=tokenizer)\n"
   ]
  },
  {
   "cell_type": "code",
   "execution_count": 10,
   "metadata": {},
   "outputs": [],
   "source": [
    "verbs = pd.DataFrame({\"word\": [\"खेलना\", \"हँसना\", \"सुनना\"]})\n",
    "nouns = pd.DataFrame({\"word\": [\"बच्चा\", \"पेड़\", \"पानी\"]})\n",
    "adjectives = pd.DataFrame({\"word\": [\"खुश\", \"सुंदर\", \"बहादुर\"]})\n",
    "endings = [\"सुखद\", \"शांत\", \"मित्रता\"]\n"
   ]
  },
  {
   "cell_type": "code",
   "execution_count": 11,
   "metadata": {},
   "outputs": [],
   "source": [
    "def generate_prompt():\n",
    "    verb = verbs.sample(n=1).iloc[0, 0]\n",
    "    noun = nouns.sample(n=1).iloc[0, 0]\n",
    "    adjective = adjectives.sample(n=1).iloc[0, 0]\n",
    "    ending = np.random.choice(endings)\n",
    "    word_choice = np.random.choice([\"verb\", \"noun\", \"adjective\"])\n",
    "    word = verb if word_choice == \"verb\" else noun if word_choice == \"noun\" else adjective\n",
    "\n",
    "    prompt_text = (\n",
    "        f\"एक सरल हिंदी बाल कथा लिखिए जो 5-6 पंक्तियों में हो, पंचतंत्र जैसी हो \"\n",
    "        f\"और आसान भाषा में हो। कहानी में एक शुरुआत, बीच और अंत होना चाहिए \"\n",
    "        f\"जिसमें {word_choice} '{word}' को स्वाभाविक रूप से उपयोग किया गया हो। \"\n",
    "        f\"कहानी का अंत एक {ending} भावना के साथ होना चाहिए।\"\n",
    "    )\n",
    "    return {\"instruction\": prompt_text, \"word\": word, \"ending\": ending}\n",
    "\n"
   ]
  },
  {
   "cell_type": "code",
   "execution_count": 15,
   "metadata": {},
   "outputs": [],
   "source": [
    "def store_dataset(n):\n",
    "    data = {\"output\": [], \"input\": [], \"instruction\": []}\n",
    "    for _ in range(n):\n",
    "        prompt = generate_prompt()\n",
    "        prompt_text = prompt['instruction']\n",
    "        \n",
    "        # Generate story using IndicGPT\n",
    "        response = generator(prompt_text, max_length=1000, temperature=0.2, top_p=0.8)[0]['generated_text']\n",
    "        \n",
    "        # Collect results\n",
    "        input_words = [prompt['word'], prompt['ending']]\n",
    "        data[\"output\"].append(response)\n",
    "        data[\"input\"].append(input_words)\n",
    "        data[\"instruction\"].append(prompt_text)\n",
    "        \n",
    "        # Save periodically to JSON file\n",
    "        with open('hindi_stories1.json', 'w', encoding='utf-8') as json_file:\n",
    "            json.dump({\"train\": data}, json_file, ensure_ascii=False, indent=4)\n",
    "\n"
   ]
  },
  {
   "cell_type": "code",
   "execution_count": 16,
   "metadata": {},
   "outputs": [],
   "source": [
    "store_dataset(5)"
   ]
  }
 ],
 "metadata": {
  "kernelspec": {
   "display_name": "Python 3",
   "language": "python",
   "name": "python3"
  },
  "language_info": {
   "codemirror_mode": {
    "name": "ipython",
    "version": 3
   },
   "file_extension": ".py",
   "mimetype": "text/x-python",
   "name": "python",
   "nbconvert_exporter": "python",
   "pygments_lexer": "ipython3",
   "version": "3.12.2"
  }
 },
 "nbformat": 4,
 "nbformat_minor": 2
}
