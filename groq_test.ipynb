{
 "cells": [
  {
   "cell_type": "code",
   "execution_count": 35,
   "metadata": {},
   "outputs": [],
   "source": [
    "# API_KEY=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\n",
    "import groq  # assuming groq is the SDK or library for using the Groq API\n",
    "import json\n",
    "import numpy as np\n",
    "import requests\n",
    "import os\n",
    "\n",
    "import pandas as pd\n",
    "from groq import Groq\n"
   ]
  },
  {
   "cell_type": "code",
   "execution_count": 36,
   "metadata": {},
   "outputs": [],
   "source": [
    "client = Groq(api_key='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')\n"
   ]
  },
  {
   "cell_type": "code",
   "execution_count": 37,
   "metadata": {},
   "outputs": [],
   "source": [
    "verbs = pd.read_csv('/Users/malhar.inamdar/Desktop/test/hindi-verbs.txt', header=None)\n",
    "adj = pd.read_csv('/Users/malhar.inamdar/Desktop/test/adjectives_hindi.txt', header=None)\n",
    "nouns = pd.read_csv('/Users/malhar.inamdar/Desktop/test/nouns_hindi.txt', header=None)\n",
    "end = np.array([\"happy\", \"sad\", \"mysterious\"])\n"
   ]
  },
  {
   "cell_type": "code",
   "execution_count": 46,
   "metadata": {},
   "outputs": [],
   "source": [
    "def generatePrompt():\n",
    "    verb = verbs.sample(n=1).iloc[0, 0]\n",
    "    noun = nouns.sample(n=1).iloc[0, 0]\n",
    "    adjective = adj.sample(n=1).iloc[0, 0]\n",
    "\n",
    "    ending = np.random.choice(end)\n",
    "    word_choice = np.random.choice([\"verb\", \"noun\", \"adjective\"])\n",
    "    word = verb if word_choice == \"verb\" else noun if word_choice == \"noun\" else adjective\n",
    "\n",
    "    basePromptHindi = f'''Write a simple Hindi children's story for a 5-year-old in 4-5 lines. The story should be inspired by Panchtantra tales and use easy, understandable language. Make it engaging with a clear beginning, middle, and end, and include only one brief dialogue between the characters. The story should have a gentle, natural resolution that reflects an emotion, such as happiness, friendship, or kindness, without explicitly using these words. Use the {word_choice} \"{word}\" naturally within the story.\n",
    "    The story should naturally lead to a {ending} ending, conveyed through the characters’ reactions, atmosphere, or conclusion without directly using the word {ending}.\n",
    "    Just give the Hindi story.'''\n",
    "    \n",
    "    return {'instruction': basePromptHindi, \"word\": word, \"ending\": ending}\n",
    "\n"
   ]
  },
  {
   "cell_type": "code",
   "execution_count": 49,
   "metadata": {},
   "outputs": [],
   "source": [
    "def store_dataset(n):\n",
    "    data = {\n",
    "        \"output\": [],\n",
    "        \"input\": [],\n",
    "        \"instruction\": []\n",
    "    }\n",
    "    \n",
    "    for _ in range(n):\n",
    "        prompt_data = generatePrompt()\n",
    "        instruction = prompt_data['instruction']\n",
    "        \n",
    "        # Make API call to generate story using chat completion\n",
    "        response = client.chat.completions.create(\n",
    "            messages=[\n",
    "                {\n",
    "                    \"role\": \"user\",\n",
    "                    \"content\": instruction\n",
    "                }\n",
    "            ],\n",
    "            model=\"llama3-70b-8192\",\n",
    "            max_tokens=680\n",
    "        )\n",
    "        \n",
    "        # Extract story text from response\n",
    "        story = response.choices[0].message.content.strip()\n",
    "        \n",
    "        # Store data\n",
    "        data[\"input\"].append(instruction)\n",
    "        data[\"output\"].append(story)\n",
    "        data[\"instruction\"].append({\"word\": prompt_data[\"word\"], \"ending\": prompt_data[\"ending\"]})\n",
    "    \n",
    "    # Save to JSON file\n",
    "    with open('hindi_stories_dataset3.json', 'w', encoding='utf-8') as f:\n",
    "        json.dump(data, f, ensure_ascii=False, indent=4)"
   ]
  },
  {
   "cell_type": "code",
   "execution_count": 50,
   "metadata": {},
   "outputs": [],
   "source": [
    "store_dataset(10)\n"
   ]
  }
 ],
 "metadata": {
  "kernelspec": {
   "display_name": "venv",
   "language": "python",
   "name": "python3"
  },
  "language_info": {
   "codemirror_mode": {
    "name": "ipython",
    "version": 3
   },
   "file_extension": ".py",
   "mimetype": "text/x-python",
   "name": "python",
   "nbconvert_exporter": "python",
   "pygments_lexer": "ipython3",
   "version": "3.12.6"
  }
 },
 "nbformat": 4,
 "nbformat_minor": 2
}
